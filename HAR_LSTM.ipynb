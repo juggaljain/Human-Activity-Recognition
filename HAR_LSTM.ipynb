{
 "cells": [
  {
   "cell_type": "code",
   "execution_count": 1,
   "metadata": {
    "collapsed": true,
    "jupyter": {
     "outputs_hidden": true
    }
   },
   "outputs": [],
   "source": [
    "# Importing Libraries"
   ]
  },
  {
   "cell_type": "code",
   "execution_count": 1,
   "metadata": {},
   "outputs": [],
   "source": [
    "import pandas as pd\n",
    "import numpy as np"
   ]
  },
  {
   "cell_type": "code",
   "execution_count": 2,
   "metadata": {},
   "outputs": [],
   "source": [
    "# Activities are the class labels\n",
    "# It is a 6 class classification\n",
    "ACTIVITIES = {\n",
    "    0: 'WALKING',\n",
    "    1: 'WALKING_UPSTAIRS',\n",
    "    2: 'WALKING_DOWNSTAIRS',\n",
    "    3: 'SITTING',\n",
    "    4: 'STANDING',\n",
    "    5: 'LAYING',\n",
    "}\n",
    "\n",
    "# Utility function to print the confusion matrix\n",
    "def confusion_matrix(Y_true, Y_pred):\n",
    "    Y_true = pd.Series([ACTIVITIES[y] for y in np.argmax(Y_true, axis=1)])\n",
    "    Y_pred = pd.Series([ACTIVITIES[y] for y in np.argmax(Y_pred, axis=1)])\n",
    "\n",
    "    return pd.crosstab(Y_true, Y_pred, rownames=['True'], colnames=['Pred'])"
   ]
  },
  {
   "cell_type": "markdown",
   "metadata": {},
   "source": [
    "### Data"
   ]
  },
  {
   "cell_type": "code",
   "execution_count": 3,
   "metadata": {},
   "outputs": [],
   "source": [
    "# Data directory\n",
    "DATADIR = 'UCI_HAR_Dataset'"
   ]
  },
  {
   "cell_type": "code",
   "execution_count": 4,
   "metadata": {},
   "outputs": [],
   "source": [
    "# Raw data signals\n",
    "# Signals are from Accelerometer and Gyroscope\n",
    "# The signals are in x,y,z directions\n",
    "# Sensor signals are filtered to have only body acceleration\n",
    "# excluding the acceleration due to gravity\n",
    "# Triaxial acceleration from the accelerometer is total acceleration\n",
    "SIGNALS = [\n",
    "    \"body_acc_x\",\n",
    "    \"body_acc_y\",\n",
    "    \"body_acc_z\",\n",
    "    \"body_gyro_x\",\n",
    "    \"body_gyro_y\",\n",
    "    \"body_gyro_z\",\n",
    "    \"total_acc_x\",\n",
    "    \"total_acc_y\",\n",
    "    \"total_acc_z\"\n",
    "]"
   ]
  },
  {
   "cell_type": "code",
   "execution_count": 23,
   "metadata": {},
   "outputs": [],
   "source": [
    "# Utility function to read the data from csv file\n",
    "def _read_csv(filename):\n",
    "    return pd.read_csv(filename, delim_whitespace=True, header=None)\n",
    "\n",
    "# Utility function to load the load\n",
    "def load_signals(subset):\n",
    "    signals_data = []\n",
    "\n",
    "    for signal in SIGNALS:\n",
    "        filename = f'UCI_HAR_Dataset/{subset}/Inertial Signals/{signal}_{subset}.txt'\n",
    "        signals_data.append(\n",
    "            _read_csv(filename).values\n",
    "        ) \n",
    "\n",
    "    # Transpose is used to change the dimensionality of the output,\n",
    "    # aggregating the signals by combination of sample/timestep.\n",
    "    # Resultant shape is (7352 train/2947 test samples, 128 timesteps, 9 signals)\n",
    "    return np.transpose(signals_data, (1, 2, 0))"
   ]
  },
  {
   "cell_type": "code",
   "execution_count": 24,
   "metadata": {},
   "outputs": [],
   "source": [
    "\n",
    "def load_y(subset):\n",
    "    \"\"\"\n",
    "    The objective that we are trying to predict is a integer, from 1 to 6,\n",
    "    that represents a human activity. We return a binary representation of \n",
    "    every sample objective as a 6 bits vector using One Hot Encoding\n",
    "    (https://pandas.pydata.org/pandas-docs/stable/generated/pandas.get_dummies.html)\n",
    "    \"\"\"\n",
    "    filename = f'UCI_HAR_Dataset/{subset}/y_{subset}.txt'\n",
    "    y = _read_csv(filename)[0]\n",
    "\n",
    "    return pd.get_dummies(y).values"
   ]
  },
  {
   "cell_type": "code",
   "execution_count": 7,
   "metadata": {},
   "outputs": [],
   "source": [
    "def load_data():\n",
    "    \"\"\"\n",
    "    Obtain the dataset from multiple files.\n",
    "    Returns: X_train, X_test, y_train, y_test\n",
    "    \"\"\"\n",
    "    X_train, X_test = load_signals('train'), load_signals('test')\n",
    "    y_train, y_test = load_y('train'), load_y('test')\n",
    "\n",
    "    return X_train, X_test, y_train, y_test"
   ]
  },
  {
   "cell_type": "code",
   "execution_count": 10,
   "metadata": {},
   "outputs": [],
   "source": [
    "# Importing tensorflow\n",
    "np.random.seed(42)\n",
    "import tensorflow as tf\n",
    "tf.random.set_seed(42)"
   ]
  },
  {
   "cell_type": "code",
   "execution_count": 12,
   "metadata": {},
   "outputs": [],
   "source": [
    "# Configuring a session\n",
    "session_conf = tf.compat.v1.ConfigProto(\n",
    "    intra_op_parallelism_threads=1,\n",
    "    inter_op_parallelism_threads=1\n",
    ")"
   ]
  },
  {
   "cell_type": "code",
   "execution_count": 16,
   "metadata": {},
   "outputs": [],
   "source": [
    "# Import Keras\n",
    "from keras import backend as K\n",
    "sess = tf.compat.v1.Session(graph=tf.compat.v1.get_default_graph(), config=session_conf)\n",
    "tf.compat.v1.keras.backend.set_session(sess)"
   ]
  },
  {
   "cell_type": "code",
   "execution_count": 18,
   "metadata": {},
   "outputs": [],
   "source": [
    "# Importing libraries\n",
    "from keras.models import Sequential\n",
    "from keras.layers import LSTM\n",
    "from keras.layers import Dense, Dropout"
   ]
  },
  {
   "cell_type": "code",
   "execution_count": 19,
   "metadata": {},
   "outputs": [],
   "source": [
    "# Initializing parameters\n",
    "epochs = 30\n",
    "batch_size = 16\n",
    "n_hidden = 32"
   ]
  },
  {
   "cell_type": "code",
   "execution_count": 20,
   "metadata": {},
   "outputs": [],
   "source": [
    "# Utility function to count the number of classes\n",
    "def _count_classes(y):\n",
    "    return len(set([tuple(category) for category in y]))"
   ]
  },
  {
   "cell_type": "code",
   "execution_count": 25,
   "metadata": {},
   "outputs": [],
   "source": [
    "# Loading the train and test data\n",
    "X_train, X_test, Y_train, Y_test = load_data()"
   ]
  },
  {
   "cell_type": "code",
   "execution_count": 26,
   "metadata": {},
   "outputs": [
    {
     "name": "stdout",
     "output_type": "stream",
     "text": [
      "128\n",
      "9\n",
      "7352\n"
     ]
    }
   ],
   "source": [
    "timesteps = len(X_train[0])\n",
    "input_dim = len(X_train[0][0])\n",
    "n_classes = _count_classes(Y_train)\n",
    "\n",
    "print(timesteps)\n",
    "print(input_dim)\n",
    "print(len(X_train))"
   ]
  },
  {
   "cell_type": "markdown",
   "metadata": {},
   "source": [
    "- Defining the Architecture of LSTM"
   ]
  },
  {
   "cell_type": "code",
   "execution_count": 27,
   "metadata": {},
   "outputs": [
    {
     "name": "stdout",
     "output_type": "stream",
     "text": [
      "Model: \"sequential\"\n",
      "_________________________________________________________________\n",
      " Layer (type)                Output Shape              Param #   \n",
      "=================================================================\n",
      " lstm (LSTM)                 (None, 32)                5376      \n",
      "                                                                 \n",
      " dropout (Dropout)           (None, 32)                0         \n",
      "                                                                 \n",
      " dense (Dense)               (None, 6)                 198       \n",
      "                                                                 \n",
      "=================================================================\n",
      "Total params: 5574 (21.77 KB)\n",
      "Trainable params: 5574 (21.77 KB)\n",
      "Non-trainable params: 0 (0.00 Byte)\n",
      "_________________________________________________________________\n"
     ]
    }
   ],
   "source": [
    "# Initiliazing the sequential model\n",
    "model = Sequential()\n",
    "# Configuring the parameters\n",
    "model.add(LSTM(n_hidden, input_shape=(timesteps, input_dim)))\n",
    "# Adding a dropout layer\n",
    "model.add(Dropout(0.5))\n",
    "# Adding a dense output layer with sigmoid activation\n",
    "model.add(Dense(n_classes, activation='sigmoid'))\n",
    "model.summary()"
   ]
  },
  {
   "cell_type": "code",
   "execution_count": 28,
   "metadata": {},
   "outputs": [],
   "source": [
    "# Compiling the model\n",
    "model.compile(loss='categorical_crossentropy',\n",
    "              optimizer='rmsprop',\n",
    "              metrics=['accuracy'])"
   ]
  },
  {
   "cell_type": "code",
   "execution_count": 29,
   "metadata": {},
   "outputs": [
    {
     "name": "stdout",
     "output_type": "stream",
     "text": [
      "Epoch 1/30\n",
      "460/460 [==============================] - 24s 46ms/step - loss: 1.1252 - accuracy: 0.5491 - val_loss: 0.9153 - val_accuracy: 0.6132\n",
      "Epoch 2/30\n",
      "460/460 [==============================] - 21s 45ms/step - loss: 0.7061 - accuracy: 0.7311 - val_loss: 0.7866 - val_accuracy: 0.7116\n",
      "Epoch 3/30\n",
      "460/460 [==============================] - 21s 46ms/step - loss: 0.4996 - accuracy: 0.8358 - val_loss: 1.1263 - val_accuracy: 0.6417\n",
      "Epoch 4/30\n",
      "460/460 [==============================] - 21s 47ms/step - loss: 0.3648 - accuracy: 0.8840 - val_loss: 0.5057 - val_accuracy: 0.8473\n",
      "Epoch 5/30\n",
      "460/460 [==============================] - 22s 47ms/step - loss: 0.3366 - accuracy: 0.8943 - val_loss: 0.4452 - val_accuracy: 0.8707\n",
      "Epoch 6/30\n",
      "460/460 [==============================] - 22s 47ms/step - loss: 0.2748 - accuracy: 0.9140 - val_loss: 1.0289 - val_accuracy: 0.7296\n",
      "Epoch 7/30\n",
      "460/460 [==============================] - 21s 46ms/step - loss: 0.2283 - accuracy: 0.9242 - val_loss: 0.4000 - val_accuracy: 0.8683\n",
      "Epoch 8/30\n",
      "460/460 [==============================] - 21s 46ms/step - loss: 0.2242 - accuracy: 0.9285 - val_loss: 0.4443 - val_accuracy: 0.8806\n",
      "Epoch 9/30\n",
      "460/460 [==============================] - 23s 51ms/step - loss: 0.1875 - accuracy: 0.9354 - val_loss: 0.4351 - val_accuracy: 0.8907\n",
      "Epoch 10/30\n",
      "460/460 [==============================] - 22s 48ms/step - loss: 0.1969 - accuracy: 0.9365 - val_loss: 0.4566 - val_accuracy: 0.8775\n",
      "Epoch 11/30\n",
      "460/460 [==============================] - 22s 48ms/step - loss: 0.1811 - accuracy: 0.9381 - val_loss: 0.3764 - val_accuracy: 0.8928\n",
      "Epoch 12/30\n",
      "460/460 [==============================] - 23s 49ms/step - loss: 0.1742 - accuracy: 0.9378 - val_loss: 0.6202 - val_accuracy: 0.8405\n",
      "Epoch 13/30\n",
      "460/460 [==============================] - 23s 49ms/step - loss: 0.1674 - accuracy: 0.9418 - val_loss: 0.3504 - val_accuracy: 0.9013\n",
      "Epoch 14/30\n",
      "460/460 [==============================] - 22s 47ms/step - loss: 0.1599 - accuracy: 0.9453 - val_loss: 0.4028 - val_accuracy: 0.9036\n",
      "Epoch 15/30\n",
      "460/460 [==============================] - 24s 51ms/step - loss: 0.1666 - accuracy: 0.9434 - val_loss: 0.3197 - val_accuracy: 0.9111\n",
      "Epoch 16/30\n",
      "460/460 [==============================] - 22s 47ms/step - loss: 0.1651 - accuracy: 0.9408 - val_loss: 0.2402 - val_accuracy: 0.9121\n",
      "Epoch 17/30\n",
      "460/460 [==============================] - 22s 47ms/step - loss: 0.1629 - accuracy: 0.9438 - val_loss: 0.3425 - val_accuracy: 0.8928\n",
      "Epoch 18/30\n",
      "460/460 [==============================] - 22s 47ms/step - loss: 0.1549 - accuracy: 0.9430 - val_loss: 0.3648 - val_accuracy: 0.9135\n",
      "Epoch 19/30\n",
      "460/460 [==============================] - 23s 51ms/step - loss: 0.1632 - accuracy: 0.9442 - val_loss: 0.2342 - val_accuracy: 0.9284\n",
      "Epoch 20/30\n",
      "460/460 [==============================] - 24s 51ms/step - loss: 0.1516 - accuracy: 0.9467 - val_loss: 0.3800 - val_accuracy: 0.9097\n",
      "Epoch 21/30\n",
      "460/460 [==============================] - 24s 52ms/step - loss: 0.1614 - accuracy: 0.9479 - val_loss: 0.2887 - val_accuracy: 0.9141\n",
      "Epoch 22/30\n",
      "460/460 [==============================] - 24s 52ms/step - loss: 0.1539 - accuracy: 0.9467 - val_loss: 0.3977 - val_accuracy: 0.9050\n",
      "Epoch 23/30\n",
      "460/460 [==============================] - 23s 49ms/step - loss: 0.1391 - accuracy: 0.9484 - val_loss: 0.5036 - val_accuracy: 0.8860\n",
      "Epoch 24/30\n",
      "460/460 [==============================] - 22s 48ms/step - loss: 0.1666 - accuracy: 0.9456 - val_loss: 0.3276 - val_accuracy: 0.9009\n",
      "Epoch 25/30\n",
      "460/460 [==============================] - 23s 49ms/step - loss: 0.2004 - accuracy: 0.9357 - val_loss: 0.3078 - val_accuracy: 0.9135\n",
      "Epoch 26/30\n",
      "460/460 [==============================] - 23s 50ms/step - loss: 0.1546 - accuracy: 0.9459 - val_loss: 0.3155 - val_accuracy: 0.9135\n",
      "Epoch 27/30\n",
      "460/460 [==============================] - 23s 50ms/step - loss: 0.1388 - accuracy: 0.9459 - val_loss: 0.5832 - val_accuracy: 0.8853\n",
      "Epoch 28/30\n",
      "460/460 [==============================] - 23s 50ms/step - loss: 0.1448 - accuracy: 0.9475 - val_loss: 0.4653 - val_accuracy: 0.9138\n",
      "Epoch 29/30\n",
      "460/460 [==============================] - 23s 51ms/step - loss: 0.1478 - accuracy: 0.9450 - val_loss: 0.4472 - val_accuracy: 0.9009\n",
      "Epoch 30/30\n",
      "460/460 [==============================] - 24s 51ms/step - loss: 0.1543 - accuracy: 0.9461 - val_loss: 0.4396 - val_accuracy: 0.9111\n"
     ]
    },
    {
     "data": {
      "text/plain": [
       "<keras.src.callbacks.History at 0x1e4645be190>"
      ]
     },
     "execution_count": 29,
     "metadata": {},
     "output_type": "execute_result"
    }
   ],
   "source": [
    "# Training the model\n",
    "model.fit(X_train,\n",
    "          Y_train,\n",
    "          batch_size=batch_size,\n",
    "          validation_data=(X_test, Y_test),\n",
    "          epochs=epochs)"
   ]
  },
  {
   "cell_type": "code",
   "execution_count": 30,
   "metadata": {},
   "outputs": [
    {
     "name": "stdout",
     "output_type": "stream",
     "text": [
      "93/93 [==============================] - 2s 17ms/step\n",
      "Pred                LAYING  SITTING  STANDING  WALKING  WALKING_DOWNSTAIRS   \n",
      "True                                                                         \n",
      "LAYING                 509        0        27        0                   1  \\\n",
      "SITTING                  0      416        72        0                   1   \n",
      "STANDING                 0      107       424        1                   0   \n",
      "WALKING                  0        0         0      479                  16   \n",
      "WALKING_DOWNSTAIRS       0        0         0        0                 419   \n",
      "WALKING_UPSTAIRS         0        2         0       26                   5   \n",
      "\n",
      "Pred                WALKING_UPSTAIRS  \n",
      "True                                  \n",
      "LAYING                             0  \n",
      "SITTING                            2  \n",
      "STANDING                           0  \n",
      "WALKING                            1  \n",
      "WALKING_DOWNSTAIRS                 1  \n",
      "WALKING_UPSTAIRS                 438  \n"
     ]
    }
   ],
   "source": [
    "# Confusion Matrix\n",
    "print(confusion_matrix(Y_test, model.predict(X_test)))"
   ]
  },
  {
   "cell_type": "code",
   "execution_count": 31,
   "metadata": {},
   "outputs": [
    {
     "name": "stdout",
     "output_type": "stream",
     "text": [
      "93/93 [==============================] - 2s 18ms/step - loss: 0.4396 - accuracy: 0.9111\n"
     ]
    }
   ],
   "source": [
    "score = model.evaluate(X_test, Y_test)"
   ]
  },
  {
   "cell_type": "code",
   "execution_count": 32,
   "metadata": {},
   "outputs": [
    {
     "data": {
      "text/plain": [
       "[0.43964460492134094, 0.9110960364341736]"
      ]
     },
     "execution_count": 32,
     "metadata": {},
     "output_type": "execute_result"
    }
   ],
   "source": [
    "score"
   ]
  },
  {
   "cell_type": "markdown",
   "metadata": {},
   "source": [
    "- With a simple 2 layer architecture we got 90.09% accuracy and a loss of 0.30\n",
    "- We can further imporve the performace with Hyperparameter tuning"
   ]
  }
 ],
 "metadata": {
  "kernelspec": {
   "display_name": "Python 3 (ipykernel)",
   "language": "python",
   "name": "python3"
  },
  "language_info": {
   "codemirror_mode": {
    "name": "ipython",
    "version": 3
   },
   "file_extension": ".py",
   "mimetype": "text/x-python",
   "name": "python",
   "nbconvert_exporter": "python",
   "pygments_lexer": "ipython3",
   "version": "3.11.3"
  }
 },
 "nbformat": 4,
 "nbformat_minor": 4
}
